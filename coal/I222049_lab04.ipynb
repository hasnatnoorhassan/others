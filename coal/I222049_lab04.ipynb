{
 "cells": [
  {
   "cell_type": "code",
   "execution_count": 25,
   "metadata": {},
   "outputs": [],
   "source": [
    "from collections import deque\n",
    "\n",
    "graph = {\n",
    "    'A': ['S'],\n",
    "    'B': ['S', 'C', 'D'],\n",
    "    'C': ['B', 'J'],\n",
    "    'D': ['S', 'B', 'G'],\n",
    "    'E': ['S', 'G'],\n",
    "    'F': ['G', 'H'],\n",
    "    'G': ['D', 'E', 'F', 'H', 'J'],\n",
    "    'H': ['G', 'F', 'I'],\n",
    "    'I': ['H', 'J'],\n",
    "    'J': ['G', 'I', 'C'],\n",
    "    'S': ['A', 'B', 'D', 'E']\n",
    "}"
   ]
  },
  {
   "cell_type": "code",
   "execution_count": null,
   "metadata": {},
   "outputs": [
    {
     "name": "stdout",
     "output_type": "stream",
     "text": [
      "BFS: ['S', 'B', 'C', 'J', 'I']\n"
     ]
    }
   ],
   "source": [
    "def bfs_shortest_path(graph, start, goal):\n",
    "    queue = deque([[start]])  \n",
    "    visited = set() \n",
    "\n",
    "    while queue:\n",
    "        path = queue.popleft() \n",
    "        node = path[-1] \n",
    "\n",
    "        if node == goal:\n",
    "            return path  \n",
    "        \n",
    "        if node not in visited:\n",
    "            visited.add(node)\n",
    "\n",
    "            for neighbor in graph[node]: \n",
    "                new_path = list(path)\n",
    "                new_path.append(neighbor)\n",
    "                queue.append(new_path)\n",
    "\n",
    "    return None  \n",
    "\n",
    "shortest_path = bfs_shortest_path(graph, 'S', 'I')\n",
    "print(\"BFS:\", shortest_path)\n",
    "\n"
   ]
  },
  {
   "cell_type": "code",
   "execution_count": null,
   "metadata": {},
   "outputs": [
    {
     "name": "stdout",
     "output_type": "stream",
     "text": [
      "Path from S to I using DFS: ['S', 'B', 'C', 'J', 'G', 'F', 'H', 'I']\n"
     ]
    }
   ],
   "source": [
    "def dfs_path(graph, start, goal, path=None, visited=None):\n",
    "    if path is None:\n",
    "        path = [start]\n",
    "    if visited is None:\n",
    "        visited = set()\n",
    "    \n",
    "    visited.add(start)\n",
    "\n",
    "    if start == goal:\n",
    "        return path \n",
    "\n",
    "    for neighbor in graph[start]:\n",
    "        if neighbor not in visited:\n",
    "            new_path = dfs_path(graph, neighbor, goal, path + [neighbor], visited)\n",
    "            if new_path:  \n",
    "                return new_path\n",
    "\n",
    "    return None  \n",
    "\n",
    "dfs_result = dfs_path(graph, 'S', 'I')\n",
    "print(\"DFS:\", dfs_result)"
   ]
  }
 ],
 "metadata": {
  "kernelspec": {
   "display_name": "base",
   "language": "python",
   "name": "python3"
  },
  "language_info": {
   "codemirror_mode": {
    "name": "ipython",
    "version": 3
   },
   "file_extension": ".py",
   "mimetype": "text/x-python",
   "name": "python",
   "nbconvert_exporter": "python",
   "pygments_lexer": "ipython3",
   "version": "3.11.5"
  }
 },
 "nbformat": 4,
 "nbformat_minor": 2
}
