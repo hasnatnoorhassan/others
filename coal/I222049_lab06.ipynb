{
  "nbformat": 4,
  "nbformat_minor": 0,
  "metadata": {
    "colab": {
      "provenance": []
    },
    "kernelspec": {
      "name": "python3",
      "display_name": "Python 3"
    },
    "language_info": {
      "name": "python"
    }
  },
  "cells": [
    {
      "cell_type": "code",
      "execution_count": 1,
      "metadata": {
        "id": "NzIM2mtdT3zT"
      },
      "outputs": [],
      "source": [
        "import random"
      ]
    },
    {
      "cell_type": "code",
      "source": [
        "items = [\n",
        "    {'value': 14, 'weight': 1},\n",
        "    {'value': 23, 'weight': 3},\n",
        "    {'value': 8, 'weight': 7},\n",
        "    {'value': 9, 'weight': 4},\n",
        "    {'value': 17, 'weight': 5},\n",
        "    {'value': 15, 'weight': 6},\n",
        "]\n",
        "max_weight = 10\n",
        "pop_size = 6\n",
        "max_gen = 50\n",
        "mut_prob = 0.1"
      ],
      "metadata": {
        "id": "tbFu6UC_T-Dx"
      },
      "execution_count": 2,
      "outputs": []
    },
    {
      "cell_type": "code",
      "source": [
        "def generate_individual():\n",
        "    return [random.randint(0, 1) for _ in range(len(items))]\n",
        "\n",
        "def generate_population():\n",
        "    return [generate_individual() for _ in range(pop_size)]\n",
        "\n",
        "population = generate_population()"
      ],
      "metadata": {
        "id": "zZLnft3oUC8l"
      },
      "execution_count": 3,
      "outputs": []
    },
    {
      "cell_type": "code",
      "source": [
        "def fitness(individual):\n",
        "    total_value = sum(ind * item['value'] for ind, item in zip(individual, items))\n",
        "    total_weight = sum(ind * item['weight'] for ind, item in zip(individual, items))\n",
        "    if total_weight > max_weight:\n",
        "        return 0  # Penalize overweight solutions\n",
        "    return total_value"
      ],
      "metadata": {
        "id": "tYxMB9PAUILc"
      },
      "execution_count": 4,
      "outputs": []
    },
    {
      "cell_type": "code",
      "source": [
        "def tournament_selection(population, k=3):\n",
        "    selected = random.sample(population, k)\n",
        "    return max(selected, key=fitness)"
      ],
      "metadata": {
        "id": "IaXWvJqVUUgH"
      },
      "execution_count": 5,
      "outputs": []
    },
    {
      "cell_type": "code",
      "source": [
        "def crossover(parent1, parent2):\n",
        "    point = random.randint(1, len(items) - 1)\n",
        "    child1 = parent1[:point] + parent2[point:]\n",
        "    child2 = parent2[:point] + parent1[point:]\n",
        "    return child1, child2\n"
      ],
      "metadata": {
        "id": "2WRorWrAUegm"
      },
      "execution_count": 6,
      "outputs": []
    },
    {
      "cell_type": "code",
      "source": [
        "def mutate(individual):\n",
        "    return [gene if random.random() > mut_prob else 1 - gene for gene in individual]"
      ],
      "metadata": {
        "id": "iWNfympZUi98"
      },
      "execution_count": 7,
      "outputs": []
    },
    {
      "cell_type": "code",
      "source": [
        "def genetic_algorithm():\n",
        "    global population\n",
        "    for _ in range(max_gen):\n",
        "        new_population = []\n",
        "        while len(new_population) < pop_size:\n",
        "            parent1 = tournament_selection(population)\n",
        "            parent2 = tournament_selection(population)\n",
        "            child1, child2 = crossover(parent1, parent2)\n",
        "            new_population.append(mutate(child1))\n",
        "            if len(new_population) < pop_size:\n",
        "                new_population.append(mutate(child2))\n",
        "        population = sorted(new_population, key=fitness, reverse=True)[:pop_size]\n",
        "    return max(population, key=fitness)"
      ],
      "metadata": {
        "id": "PKLBZyt7Ul5G"
      },
      "execution_count": 8,
      "outputs": []
    },
    {
      "cell_type": "code",
      "source": [
        "best_solution = genetic_algorithm()\n",
        "print(\"Best Solution:\", best_solution)\n",
        "print(\"Total Value:\", fitness(best_solution))\n"
      ],
      "metadata": {
        "colab": {
          "base_uri": "https://localhost:8080/"
        },
        "id": "WGnMUp_xUm9h",
        "outputId": "c46e9418-7ca1-41e7-c1e0-fd6b961306b7"
      },
      "execution_count": 9,
      "outputs": [
        {
          "output_type": "stream",
          "name": "stdout",
          "text": [
            "Best Solution: [1, 1, 0, 0, 1, 0]\n",
            "Total Value: 54\n"
          ]
        }
      ]
    }
  ]
}