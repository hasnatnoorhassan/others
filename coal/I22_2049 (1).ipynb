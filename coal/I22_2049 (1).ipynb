{
 "cells": [
  {
   "cell_type": "markdown",
   "metadata": {},
   "source": [
    "**import libraries**"
   ]
  },
  {
   "cell_type": "code",
   "execution_count": 1,
   "metadata": {},
   "outputs": [],
   "source": [
    "import random\n",
    "import string"
   ]
  },
  {
   "cell_type": "markdown",
   "metadata": {},
   "source": [
    "**generate random words**"
   ]
  },
  {
   "cell_type": "code",
   "execution_count": 2,
   "metadata": {},
   "outputs": [
    {
     "name": "stdout",
     "output_type": "stream",
     "text": [
      "Initial Population:\n",
      "rcelmquvz\n",
      "mqdxnjvpq\n",
      "jsogbtdng\n",
      "jccusnqtj\n",
      "jpwlrjbmp\n",
      "aetjkoouz\n",
      "cymyzyaga\n",
      "lsqpwdwav\n",
      "svxjkjnfx\n",
      "giytohnbi\n",
      "ztvzhvnri\n",
      "slpjeriuf\n",
      "esrrdraxi\n",
      "ukjkpkbpf\n",
      "ffassfhaz\n",
      "nisppfxby\n",
      "hkalvkzhf\n",
      "tjixvhjmb\n",
      "vurfyyslf\n",
      "lgrjfqkin\n",
      "qyurcchck\n",
      "rzdfunzzf\n",
      "uiplnaawb\n",
      "vvabseuul\n",
      "bweickujo\n",
      "fhclbfijh\n",
      "xsqpaohbv\n",
      "kidvruzuq\n",
      "hnljrzmvd\n",
      "jfzrozbci\n",
      "sthrvvick\n",
      "gdbgknnqm\n",
      "wfaqocwpx\n",
      "gqsgwztaq\n",
      "vjqwzsyvx\n",
      "fdlxqyljt\n",
      "lmjetekjl\n",
      "ctivqyvux\n",
      "ztktatysx\n",
      "xdnkwwylw\n",
      "lawpyivuc\n",
      "jvxajzquo\n",
      "vpubmgury\n",
      "lkvvsbuni\n",
      "zelksgmsi\n",
      "fnbmxymmn\n",
      "gjypefmyp\n",
      "oyzuvodru\n",
      "iwpfammym\n",
      "hqpszhdbt\n"
     ]
    }
   ],
   "source": [
    "def generate_random_word(length):\n",
    "    return ''.join(random.choice(string.ascii_lowercase) for _ in range(length))\n",
    "\n",
    "population_size = 50\n",
    "secret_word = \"nevermind\"\n",
    "word_length = len(secret_word)\n",
    "population = [generate_random_word(word_length) for _ in range(population_size)]\n",
    "print(\"Initial Population:\")\n",
    "for word in population:\n",
    "    print(word)"
   ]
  },
  {
   "cell_type": "markdown",
   "metadata": {},
   "source": [
    "**fitness score**"
   ]
  },
  {
   "cell_type": "code",
   "execution_count": 3,
   "metadata": {},
   "outputs": [
    {
     "name": "stdout",
     "output_type": "stream",
     "text": [
      "Fitness Scores:\n",
      "rcelmquvz 0\n",
      "mqdxnjvpq 0\n",
      "jsogbtdng 1\n",
      "jccusnqtj 0\n",
      "jpwlrjbmp 1\n",
      "aetjkoouz 1\n",
      "cymyzyaga 0\n",
      "lsqpwdwav 0\n",
      "svxjkjnfx 0\n",
      "giytohnbi 0\n",
      "ztvzhvnri 1\n",
      "slpjeriuf 1\n",
      "esrrdraxi 0\n",
      "ukjkpkbpf 0\n",
      "ffassfhaz 0\n",
      "nisppfxby 1\n",
      "hkalvkzhf 0\n",
      "tjixvhjmb 0\n",
      "vurfyyslf 0\n",
      "lgrjfqkin 0\n",
      "qyurcchck 0\n",
      "rzdfunzzf 0\n",
      "uiplnaawb 0\n",
      "vvabseuul 0\n",
      "bweickujo 0\n",
      "fhclbfijh 1\n",
      "xsqpaohbv 0\n",
      "kidvruzuq 1\n",
      "hnljrzmvd 2\n",
      "jfzrozbci 0\n",
      "sthrvvick 1\n",
      "gdbgknnqm 0\n",
      "wfaqocwpx 0\n",
      "gqsgwztaq 0\n",
      "vjqwzsyvx 0\n",
      "fdlxqyljt 0\n",
      "lmjetekjl 1\n",
      "ctivqyvux 0\n",
      "ztktatysx 0\n",
      "xdnkwwylw 0\n",
      "lawpyivuc 0\n",
      "jvxajzquo 0\n",
      "vpubmgury 0\n",
      "lkvvsbuni 2\n",
      "zelksgmsi 1\n",
      "fnbmxymmn 0\n",
      "gjypefmyp 0\n",
      "oyzuvodru 0\n",
      "iwpfammym 1\n",
      "hqpszhdbt 0\n"
     ]
    }
   ],
   "source": [
    "def calculate_fitness(word, target):\n",
    "    count = 0\n",
    "    for i in range(len(word)):\n",
    "        if word[i] == target[i]:\n",
    "            count += 1\n",
    "    return count\n",
    "\n",
    "fitness_scores = [calculate_fitness(word, secret_word) for word in population]\n",
    "print(\"Fitness Scores:\")\n",
    "for i in range(population_size):\n",
    "    print(population[i], fitness_scores[i])\n"
   ]
  },
  {
   "cell_type": "markdown",
   "metadata": {},
   "source": [
    "**selection**"
   ]
  },
  {
   "cell_type": "code",
   "execution_count": 4,
   "metadata": {},
   "outputs": [
    {
     "name": "stdout",
     "output_type": "stream",
     "text": [
      "Selected Parents: hnljrzmvd lkvvsbuni\n"
     ]
    }
   ],
   "source": [
    "def select_parents(population, fitness_scores):\n",
    "    sorted_indices = sorted(range(len(fitness_scores)), key=lambda i: fitness_scores[i], reverse=True)\n",
    "    return [population[sorted_indices[0]], population[sorted_indices[1]]]\n",
    "\n",
    "parents = select_parents(population, fitness_scores)\n",
    "print(\"Selected Parents:\", parents[0], parents[1])\n"
   ]
  },
  {
   "cell_type": "markdown",
   "metadata": {},
   "source": [
    "**crossover**"
   ]
  },
  {
   "cell_type": "code",
   "execution_count": 5,
   "metadata": {},
   "outputs": [
    {
     "name": "stdout",
     "output_type": "stream",
     "text": [
      "Children After Crossover: hnljrbuni lkvvszmvd\n"
     ]
    }
   ],
   "source": [
    "def crossover(parent1, parent2):\n",
    "    point = random.randint(1, len(parent1) - 1)\n",
    "    child1 = parent1[:point] + parent2[point:]\n",
    "    child2 = parent2[:point] + parent1[point:]\n",
    "    return child1, child2\n",
    "\n",
    "child1, child2 = crossover(parents[0], parents[1])\n",
    "print(\"Children After Crossover:\", child1, child2)"
   ]
  },
  {
   "cell_type": "markdown",
   "metadata": {},
   "source": [
    "**mutation**"
   ]
  },
  {
   "cell_type": "code",
   "execution_count": 6,
   "metadata": {},
   "outputs": [
    {
     "name": "stdout",
     "output_type": "stream",
     "text": [
      "Children After Mutation: hncjrbuni lkvvszmvd\n"
     ]
    }
   ],
   "source": [
    "def mutate(word, mutation_rate=0.1):\n",
    "    word = list(word)\n",
    "    for i in range(len(word)):\n",
    "        if random.random() < mutation_rate:\n",
    "            word[i] = random.choice(string.ascii_lowercase)\n",
    "    return ''.join(word)\n",
    "\n",
    "child1 = mutate(child1)\n",
    "child2 = mutate(child2)\n",
    "print(\"Children After Mutation:\", child1, child2)\n"
   ]
  },
  {
   "cell_type": "markdown",
   "metadata": {},
   "source": [
    "**new population**"
   ]
  },
  {
   "cell_type": "code",
   "execution_count": 7,
   "metadata": {},
   "outputs": [
    {
     "name": "stdout",
     "output_type": "stream",
     "text": [
      "New Population:\n",
      "hncjrbuni\n",
      "lkvvszmvd\n",
      "rcelmquvz\n",
      "mqdxnjvpq\n",
      "jsogbtdng\n",
      "jccusnqtj\n",
      "jpwlrjbmp\n",
      "aetjkoouz\n",
      "cymyzyaga\n",
      "lsqpwdwav\n",
      "svxjkjnfx\n",
      "giytohnbi\n",
      "ztvzhvnri\n",
      "slpjeriuf\n",
      "esrrdraxi\n",
      "ukjkpkbpf\n",
      "ffassfhaz\n",
      "nisppfxby\n",
      "hkalvkzhf\n",
      "tjixvhjmb\n",
      "vurfyyslf\n",
      "lgrjfqkin\n",
      "qyurcchck\n",
      "rzdfunzzf\n",
      "uiplnaawb\n",
      "vvabseuul\n",
      "bweickujo\n",
      "fhclbfijh\n",
      "xsqpaohbv\n",
      "kidvruzuq\n",
      "hnljrzmvd\n",
      "jfzrozbci\n",
      "sthrvvick\n",
      "gdbgknnqm\n",
      "wfaqocwpx\n",
      "gqsgwztaq\n",
      "vjqwzsyvx\n",
      "fdlxqyljt\n",
      "lmjetekjl\n",
      "ctivqyvux\n",
      "ztktatysx\n",
      "xdnkwwylw\n",
      "lawpyivuc\n",
      "jvxajzquo\n",
      "vpubmgury\n",
      "lkvvsbuni\n",
      "zelksgmsi\n",
      "fnbmxymmn\n",
      "gjypefmyp\n",
      "oyzuvodru\n"
     ]
    }
   ],
   "source": [
    "new_population = [child1, child2] + population[:population_size-2]\n",
    "print(\"New Population:\")\n",
    "for word in new_population:\n",
    "    print(word)"
   ]
  },
  {
   "cell_type": "markdown",
   "metadata": {},
   "source": [
    "**GA loop**"
   ]
  },
  {
   "cell_type": "code",
   "execution_count": 8,
   "metadata": {},
   "outputs": [
    {
     "name": "stdout",
     "output_type": "stream",
     "text": [
      "Running Genetic Algorithm:\n",
      "Generation 0 beveyfajg 3\n",
      "Generation 1 beveyfans 4\n",
      "Generation 2 beveyfpns 4\n",
      "Generation 3 beveyvand 5\n",
      "Generation 4 beveyvand 5\n",
      "Generation 5 beveyytnd 5\n",
      "Generation 6 beveyytnd 5\n",
      "Generation 7 bevewvmnd 5\n",
      "Generation 8 bevewvtnd 5\n",
      "Generation 9 zevewsknd 5\n",
      "Generation 10 zeveyvtnd 5\n",
      "Generation 11 oevewsind 6\n",
      "Generation 12 oevewmind 7\n",
      "Generation 13 oevenmind 7\n",
      "Generation 14 oevewmind 7\n",
      "Generation 15 oevewmind 7\n",
      "Generation 16 oevermind 8\n",
      "Generation 17 oevermind 8\n",
      "Generation 18 oevermind 8\n",
      "Generation 19 oevermind 8\n",
      "Generation 20 nevermind 9\n"
     ]
    }
   ],
   "source": [
    "def genetic_algorithm():\n",
    "    population = [generate_random_word(word_length) for _ in range(population_size)]\n",
    "    generation = 0\n",
    "    \n",
    "    while True:\n",
    "        fitness_scores = [calculate_fitness(word, secret_word) for word in population]\n",
    "        best_word = max(population, key=lambda w: calculate_fitness(w, secret_word))\n",
    "        best_fitness = calculate_fitness(best_word, secret_word)\n",
    "        print(\"Generation\", generation, best_word, best_fitness)\n",
    "        \n",
    "        if best_fitness == word_length:\n",
    "            break\n",
    "        \n",
    "        new_population = []\n",
    "        parents = select_parents(population, fitness_scores)\n",
    "        \n",
    "        while len(new_population) < population_size:\n",
    "            child1, child2 = crossover(parents[0], parents[1])\n",
    "            child1 = mutate(child1)\n",
    "            child2 = mutate(child2)\n",
    "            new_population.extend([child1, child2])\n",
    "        \n",
    "        population = new_population[:population_size]\n",
    "        generation += 1\n",
    "\n",
    "print(\"Running Genetic Algorithm:\")\n",
    "genetic_algorithm()\n"
   ]
  }
 ],
 "metadata": {
  "kernelspec": {
   "display_name": "Python 3",
   "language": "python",
   "name": "python3"
  },
  "language_info": {
   "codemirror_mode": {
    "name": "ipython",
    "version": 3
   },
   "file_extension": ".py",
   "mimetype": "text/x-python",
   "name": "python",
   "nbconvert_exporter": "python",
   "pygments_lexer": "ipython3",
   "version": "3.11.9"
  }
 },
 "nbformat": 4,
 "nbformat_minor": 2
}
