{
  "nbformat": 4,
  "nbformat_minor": 0,
  "metadata": {
    "colab": {
      "provenance": []
    },
    "kernelspec": {
      "name": "python3",
      "display_name": "Python 3"
    },
    "language_info": {
      "name": "python"
    }
  },
  "cells": [
    {
      "cell_type": "markdown",
      "source": [
        "**Q01**"
      ],
      "metadata": {
        "id": "ab7emiBw54au"
      }
    },
    {
      "cell_type": "code",
      "execution_count": 2,
      "metadata": {
        "id": "y3UeExDr5upm",
        "colab": {
          "base_uri": "https://localhost:8080/"
        },
        "outputId": "372da9d2-91d2-4dd9-efd0-8aa8ba92509b"
      },
      "outputs": [
        {
          "output_type": "stream",
          "name": "stdout",
          "text": [
            "<class 'int'>\n",
            "<class 'float'>\n",
            "<class 'bool'>\n",
            "<class 'str'>\n"
          ]
        }
      ],
      "source": [
        "my_list=[1,2.0,True,\"hasnat\"]\n",
        "for x in my_list:\n",
        "  print(type(x))"
      ]
    },
    {
      "cell_type": "markdown",
      "source": [
        "**Q02**"
      ],
      "metadata": {
        "id": "0qkurti86aqN"
      }
    },
    {
      "cell_type": "code",
      "source": [
        "integer= 2049\n",
        "float_num = 1.22\n",
        "complex_number = 2 + 3j\n",
        "\n",
        "string = \"Python is fun!\"\n",
        "multiline = '''my\n",
        "name is\n",
        "Hasnat'''\n",
        "\n",
        "\n",
        "true_value = True\n",
        "false_value = False\n",
        "\n",
        "binary= 0b1010\n",
        "octal= 0o12\n",
        "hex = 0xA\n",
        "none = None\n",
        "\n",
        "print(\"integer=\",integer)\n",
        "print(\"float_num=\",float_num)\n",
        "print(\"complex_number=\",complex_number)\n",
        "print(\"string=\",string)\n",
        "print(\"multiline=\",multiline)\n",
        "print(\"true_value=\",true_value)\n",
        "print(\"false_value=\",false_value)\n",
        "print(\"binary=\",binary)\n",
        "print(\"octal=\",octal)\n",
        "print(\"hex=\",hex)\n",
        "print(\"none=\",none)\n",
        "\n"
      ],
      "metadata": {
        "id": "qdiBK5nC6cDC",
        "colab": {
          "base_uri": "https://localhost:8080/"
        },
        "outputId": "21e4402e-fd44-408a-b19c-9107bce2b3f7"
      },
      "execution_count": 3,
      "outputs": [
        {
          "output_type": "stream",
          "name": "stdout",
          "text": [
            "integer=  2049\n",
            "float_num=  1.22\n",
            "complex_number=  (2+3j)\n",
            "string=  Python is fun!\n",
            "multiline=  my\n",
            "name is\n",
            "Hasnat\n",
            "true_value=  True\n",
            "false_value=  False\n",
            "binary=  10\n",
            "octal=  10\n",
            "hex=  10\n",
            "none=  None\n"
          ]
        }
      ]
    },
    {
      "cell_type": "markdown",
      "source": [
        "**Q3**"
      ],
      "metadata": {
        "id": "vDijSFre8PY8"
      }
    },
    {
      "cell_type": "code",
      "source": [
        "#using >, <, ==, !=\n",
        "enter_first_number=int(input(\"enter first number:\"))\n",
        "enter_second_number=int(input(\"enter second number:\"))\n",
        "if enter_first_number > enter_second_number:\n",
        "  print(\"first number is greater than second number\")\n",
        "elif enter_first_number < enter_second_number:\n",
        "  print(\"first number is less than second number\")"
      ],
      "metadata": {
        "id": "Tac5b4_M8RHJ"
      },
      "execution_count": null,
      "outputs": []
    },
    {
      "cell_type": "code",
      "source": [
        "guess_number= 35\n",
        "input_num=int(input(\"enter a number:\"))\n",
        "if input_num > guess_number:\n",
        "  print(\"your number is greater than guess number\")\n",
        "elif input_num < guess_number:\n",
        "  print(\"your number is less than guess number\")\n",
        "elif input_num == guess_number:\n",
        "  print(\"your number is equal to guess number\")"
      ],
      "metadata": {
        "colab": {
          "base_uri": "https://localhost:8080/"
        },
        "id": "_WnzsGWV8og5",
        "outputId": "2e093252-f5ca-444a-d642-ce6981b84de1"
      },
      "execution_count": 4,
      "outputs": [
        {
          "output_type": "stream",
          "name": "stdout",
          "text": [
            "enter a number:35\n",
            "your number is equal to guess number\n"
          ]
        }
      ]
    },
    {
      "cell_type": "code",
      "source": [
        "fruits=[\"orange\",\"banana\",\"mango\"]\n",
        "if \"orange\" or \"strawberry\" in fruits:\n",
        "  print(\"orange or strawberry is in fruits\")\n",
        "else:\n",
        "  print(\"orange or strawberry is not in fruits\")"
      ],
      "metadata": {
        "colab": {
          "base_uri": "https://localhost:8080/"
        },
        "id": "HR-IjxAb8_r3",
        "outputId": "d3e736e4-4b09-47d4-8e2a-4fa3d7777959"
      },
      "execution_count": 5,
      "outputs": [
        {
          "output_type": "stream",
          "name": "stdout",
          "text": [
            "orange is in fruits\n"
          ]
        }
      ]
    },
    {
      "cell_type": "code",
      "source": [
        "fruits=[\"orange\",\"banana\",\"mango\"]\n",
        "if \"orange\" and \"strawberry\" in fruits:\n",
        "  print(\"orange and strawberry is in fruits\")\n",
        "else:\n",
        "  print(\"orange and starwberry is not in fruits\")"
      ],
      "metadata": {
        "colab": {
          "base_uri": "https://localhost:8080/"
        },
        "id": "U4plCUWK9XUY",
        "outputId": "0fecfe00-1d63-4d84-ab4d-3b49a6f5fd20"
      },
      "execution_count": 6,
      "outputs": [
        {
          "output_type": "stream",
          "name": "stdout",
          "text": [
            "orange is not in fruits\n"
          ]
        }
      ]
    },
    {
      "cell_type": "markdown",
      "source": [
        "**Q4**"
      ],
      "metadata": {
        "id": "c120Od149jz-"
      }
    },
    {
      "cell_type": "code",
      "source": [
        "num_list=[1,2,3,4,5,6,7,8,9,10]\n",
        "sum=0\n",
        "for num in num_list:\n",
        "  sum=sum + num\n",
        "print(sum)\n"
      ],
      "metadata": {
        "colab": {
          "base_uri": "https://localhost:8080/"
        },
        "id": "2S8-lqbS9l0y",
        "outputId": "a0b2a1b0-738b-449f-9400-bca990e7b8c5"
      },
      "execution_count": 9,
      "outputs": [
        {
          "output_type": "stream",
          "name": "stdout",
          "text": [
            "55\n"
          ]
        }
      ]
    },
    {
      "cell_type": "markdown",
      "source": [
        "**Q5**"
      ],
      "metadata": {
        "id": "wgqzyAIX9_Zx"
      }
    },
    {
      "cell_type": "code",
      "source": [
        "animals=[\"lion\",\"tiger\",\"elephant\",\"ostrich\"]\n",
        "print(animals[2])\n",
        "animals[2]=\"giraffe\"\n",
        "print(animals)"
      ],
      "metadata": {
        "colab": {
          "base_uri": "https://localhost:8080/"
        },
        "id": "jKXLeOPm-Bud",
        "outputId": "958e5ba8-4235-4908-a4b0-11c68e48e035"
      },
      "execution_count": 18,
      "outputs": [
        {
          "output_type": "stream",
          "name": "stdout",
          "text": [
            "elephant\n",
            "['lion', 'tiger', 'giraffe', 'ostrich']\n"
          ]
        }
      ]
    },
    {
      "cell_type": "code",
      "source": [
        "print(animals[:1])\n",
        "print(animals[::-1])\n",
        "print(animals[::2])"
      ],
      "metadata": {
        "colab": {
          "base_uri": "https://localhost:8080/"
        },
        "id": "PtEzeYcA-s5Z",
        "outputId": "f702a82f-9a3c-429c-d00c-cece59612649"
      },
      "execution_count": 14,
      "outputs": [
        {
          "output_type": "stream",
          "name": "stdout",
          "text": [
            "['lion']\n",
            "['ostrich', 'giraffe', 'tiger', 'lion']\n",
            "['lion', 'giraffe']\n"
          ]
        }
      ]
    },
    {
      "cell_type": "code",
      "source": [
        "animals.append(\"cat\")\n",
        "print(animals)\n",
        "animals.remove(\"lion\")\n",
        "print(animals)"
      ],
      "metadata": {
        "colab": {
          "base_uri": "https://localhost:8080/"
        },
        "id": "9IaWy5BW_K1t",
        "outputId": "c5f7fd6e-f479-4556-e536-23afe292bdf7"
      },
      "execution_count": 20,
      "outputs": [
        {
          "output_type": "stream",
          "name": "stdout",
          "text": [
            "['lion', 'tiger', 'giraffe', 'ostrich', 'cat', 'cat']\n",
            "['tiger', 'giraffe', 'ostrich', 'cat', 'cat']\n"
          ]
        }
      ]
    },
    {
      "cell_type": "markdown",
      "source": [
        "**Q6**"
      ],
      "metadata": {
        "id": "_FQ2WDrk_lpX"
      }
    },
    {
      "cell_type": "code",
      "source": [
        "sentence= \"MY name is hasnat\"\n",
        "print(sentence)\n",
        "\n"
      ],
      "metadata": {
        "colab": {
          "base_uri": "https://localhost:8080/"
        },
        "id": "-JsoisXf_nsw",
        "outputId": "3adfb787-a069-4456-c27c-da836778aea5"
      },
      "execution_count": 23,
      "outputs": [
        {
          "output_type": "stream",
          "name": "stdout",
          "text": [
            "MY name is hasnat\n"
          ]
        }
      ]
    },
    {
      "cell_type": "code",
      "source": [
        "print(sentence.upper())\n",
        "print(sentence.lower())\n",
        "print(sentence.capitalize())\n",
        "print(sentence.title())"
      ],
      "metadata": {
        "colab": {
          "base_uri": "https://localhost:8080/"
        },
        "id": "lICcQsxN_8LR",
        "outputId": "0eaa0b91-0ad8-4d40-f997-491a32a4060e"
      },
      "execution_count": 24,
      "outputs": [
        {
          "output_type": "stream",
          "name": "stdout",
          "text": [
            "MY NAME IS HASNAT\n",
            "my name is hasnat\n",
            "My name is hasnat\n",
            "My Name Is Hasnat\n"
          ]
        }
      ]
    },
    {
      "cell_type": "code",
      "source": [
        "print(sentence[:10])\n",
        "print(sentence[::-1])\n",
        "print(sentence[::2])"
      ],
      "metadata": {
        "colab": {
          "base_uri": "https://localhost:8080/"
        },
        "id": "zYSCaR0mAEuI",
        "outputId": "bd7b1534-8005-4db7-fd9f-2f99e7a863e8"
      },
      "execution_count": 26,
      "outputs": [
        {
          "output_type": "stream",
          "name": "stdout",
          "text": [
            "MY name is\n",
            "tansah si eman YM\n",
            "M aei ant\n"
          ]
        }
      ]
    },
    {
      "cell_type": "code",
      "source": [
        "new_sentence=sentence.replace(\"hasnat\",\"hasnatullah\")\n",
        "print(new_sentence)\n",
        "new_sentence=sentence.split()\n",
        "print(new_sentence)"
      ],
      "metadata": {
        "colab": {
          "base_uri": "https://localhost:8080/"
        },
        "id": "rjZYxrKGARnl",
        "outputId": "6067c907-c535-4818-fed4-0e7ac7016d9d"
      },
      "execution_count": 32,
      "outputs": [
        {
          "output_type": "stream",
          "name": "stdout",
          "text": [
            "MY name is hasnatullah\n",
            "['MY', 'name', 'is', 'hasnat']\n"
          ]
        }
      ]
    },
    {
      "cell_type": "code",
      "source": [
        "str1 = \"Hello\"\n",
        "str2 = \"World\"\n",
        "result = str1 + \" \" + str2\n",
        "print(result)\n"
      ],
      "metadata": {
        "colab": {
          "base_uri": "https://localhost:8080/"
        },
        "id": "7yKzYWOHA-WE",
        "outputId": "0195da94-78ee-4797-cc6f-7646eecb0d0f"
      },
      "execution_count": 31,
      "outputs": [
        {
          "output_type": "stream",
          "name": "stdout",
          "text": [
            "Hello World\n"
          ]
        }
      ]
    },
    {
      "cell_type": "markdown",
      "source": [
        "**Q7**"
      ],
      "metadata": {
        "id": "MLhv-eOpBLkq"
      }
    },
    {
      "cell_type": "code",
      "source": [
        "thistuple = (\"apple\", \"banana\", \"cherry\")\n",
        "print(thistuple[1])\n",
        "print(thistuple[0:1])"
      ],
      "metadata": {
        "colab": {
          "base_uri": "https://localhost:8080/"
        },
        "id": "set-KmCSBOwN",
        "outputId": "98045f12-e086-4c57-db3f-f5f277d17234"
      },
      "execution_count": 35,
      "outputs": [
        {
          "output_type": "stream",
          "name": "stdout",
          "text": [
            "banana\n",
            "('apple',)\n"
          ]
        }
      ]
    },
    {
      "cell_type": "code",
      "source": [
        "thistuple = (\"apple\", \"banana\", \"cherry\")\n",
        "print(len(thistuple))"
      ],
      "metadata": {
        "colab": {
          "base_uri": "https://localhost:8080/"
        },
        "id": "B3Wq_xgIB68i",
        "outputId": "72ffd538-0dcc-4251-cb5c-76519bd762f6"
      },
      "execution_count": 36,
      "outputs": [
        {
          "output_type": "stream",
          "name": "stdout",
          "text": [
            "3\n"
          ]
        }
      ]
    },
    {
      "cell_type": "code",
      "source": [
        "thistuple = (\"apple\",)\n",
        "print(type(thistuple))\n",
        "\n",
        "thistuple = (\"apple\")\n",
        "print(type(thistuple))"
      ],
      "metadata": {
        "colab": {
          "base_uri": "https://localhost:8080/"
        },
        "id": "IIx_7cYMCBoo",
        "outputId": "a684d3be-d8d8-4cbc-a415-54d44086133c"
      },
      "execution_count": 37,
      "outputs": [
        {
          "output_type": "stream",
          "name": "stdout",
          "text": [
            "<class 'tuple'>\n",
            "<class 'str'>\n"
          ]
        }
      ]
    },
    {
      "cell_type": "code",
      "source": [
        "nerd=(\"shahroze\",\"hamza\",\"taha\")\n",
        "student1,student2,student3=nerd\n",
        "print(student1)\n",
        "print(student2)\n",
        "print(student3)"
      ],
      "metadata": {
        "colab": {
          "base_uri": "https://localhost:8080/"
        },
        "id": "1F8mS3J3CDh1",
        "outputId": "c50a0c33-1ecd-47c8-c66c-b33f538de232"
      },
      "execution_count": 38,
      "outputs": [
        {
          "output_type": "stream",
          "name": "stdout",
          "text": [
            "shahroze\n",
            "hamza\n",
            "taha\n"
          ]
        }
      ]
    },
    {
      "cell_type": "markdown",
      "source": [
        "**Q8**"
      ],
      "metadata": {
        "id": "K1quL3k1CZdy"
      }
    },
    {
      "cell_type": "code",
      "source": [
        "inventory={\"milk\": 100,\n",
        "           \"eggs\": 200,\n",
        "           \"juice\": 300}\n",
        "\n",
        "print(\"price of milk is \", inventory[\"milk\"])"
      ],
      "metadata": {
        "colab": {
          "base_uri": "https://localhost:8080/"
        },
        "id": "TpIXc831CbhE",
        "outputId": "cfdbcf49-cfa0-4653-b78d-5c2a202ae249"
      },
      "execution_count": 40,
      "outputs": [
        {
          "output_type": "stream",
          "name": "stdout",
          "text": [
            "price of milk is  100\n"
          ]
        }
      ]
    },
    {
      "cell_type": "code",
      "source": [
        "price= inventory.get(\"eggs\")\n",
        "print(\"price of eggs is \",price)"
      ],
      "metadata": {
        "colab": {
          "base_uri": "https://localhost:8080/"
        },
        "id": "fd4mXF6NDQ3x",
        "outputId": "c46ff16a-d8a9-498a-f937-70d8b656190d"
      },
      "execution_count": 42,
      "outputs": [
        {
          "output_type": "stream",
          "name": "stdout",
          "text": [
            "price of eggs is  200\n"
          ]
        }
      ]
    },
    {
      "cell_type": "code",
      "source": [
        "x=inventory.keys()\n",
        "print(x)\n",
        "inventory[\"bread\"]=400\n",
        "print(x)"
      ],
      "metadata": {
        "colab": {
          "base_uri": "https://localhost:8080/"
        },
        "id": "TyFcLIOXDlPo",
        "outputId": "820c2425-d476-4697-c776-1660a1255a01"
      },
      "execution_count": 43,
      "outputs": [
        {
          "output_type": "stream",
          "name": "stdout",
          "text": [
            "dict_keys(['milk', 'eggs', 'juice'])\n",
            "dict_keys(['milk', 'eggs', 'juice', 'bread'])\n"
          ]
        }
      ]
    },
    {
      "cell_type": "code",
      "source": [
        "y= inventory.values()\n",
        "print(y)\n",
        "inventory[\"milk\"]=500\n",
        "print(y)"
      ],
      "metadata": {
        "colab": {
          "base_uri": "https://localhost:8080/"
        },
        "id": "68lhdIxvDvzS",
        "outputId": "d91bcaa1-1c69-48be-e9c4-ceaec81b2423"
      },
      "execution_count": 44,
      "outputs": [
        {
          "output_type": "stream",
          "name": "stdout",
          "text": [
            "dict_values([100, 200, 300, 400])\n",
            "dict_values([500, 200, 300, 400])\n"
          ]
        }
      ]
    },
    {
      "cell_type": "code",
      "source": [
        "z=inventory.items()\n",
        "print(z)"
      ],
      "metadata": {
        "colab": {
          "base_uri": "https://localhost:8080/"
        },
        "id": "MQ3i3fTLD4XL",
        "outputId": "769d2f9a-0aa8-42fe-d6f1-f1c13ea40367"
      },
      "execution_count": 45,
      "outputs": [
        {
          "output_type": "stream",
          "name": "stdout",
          "text": [
            "dict_items([('milk', 500), ('eggs', 200), ('juice', 300), ('bread', 400)])\n"
          ]
        }
      ]
    },
    {
      "cell_type": "code",
      "source": [
        "if \"milk\" in inventory:\n",
        "  print(\"milk is in inventory\")\n",
        "inventory.update({\"milk\":600})\n",
        "print(inventory)"
      ],
      "metadata": {
        "colab": {
          "base_uri": "https://localhost:8080/"
        },
        "id": "wTlYtqnyEBYk",
        "outputId": "f92efd5b-1ea4-4510-cb95-0c8edad5fb5e"
      },
      "execution_count": 46,
      "outputs": [
        {
          "output_type": "stream",
          "name": "stdout",
          "text": [
            "milk is in inventory\n",
            "{'milk': 600, 'eggs': 200, 'juice': 300, 'bread': 400}\n"
          ]
        }
      ]
    },
    {
      "cell_type": "markdown",
      "source": [
        "**Q9**"
      ],
      "metadata": {
        "id": "KK4hfVZzEXGC"
      }
    },
    {
      "cell_type": "code",
      "source": [
        "set1={1,2,3,4,5}\n",
        "set2={4,5,6,7,8}\n",
        "print(set1.union(set2))\n",
        "print(set1.intersection(set2))\n",
        "print(set1.difference(set2))\n"
      ],
      "metadata": {
        "colab": {
          "base_uri": "https://localhost:8080/"
        },
        "id": "1pLxiH64EZfP",
        "outputId": "d7502f8b-0f2d-4144-9472-5faf502f2397"
      },
      "execution_count": 47,
      "outputs": [
        {
          "output_type": "stream",
          "name": "stdout",
          "text": [
            "{1, 2, 3, 4, 5, 6, 7, 8}\n",
            "{4, 5}\n",
            "{1, 2, 3}\n"
          ]
        }
      ]
    },
    {
      "cell_type": "code",
      "source": [
        "for x in set1:\n",
        "  print(x)\n",
        "\n",
        "print(6 in set1)"
      ],
      "metadata": {
        "colab": {
          "base_uri": "https://localhost:8080/"
        },
        "id": "XglJOub4Eycp",
        "outputId": "f7fb7be5-3dd6-4748-f74c-4a3b6a75e5bc"
      },
      "execution_count": 49,
      "outputs": [
        {
          "output_type": "stream",
          "name": "stdout",
          "text": [
            "1\n",
            "2\n",
            "3\n",
            "4\n",
            "5\n",
            "False\n"
          ]
        }
      ]
    },
    {
      "cell_type": "code",
      "source": [
        "set1.add(6)\n",
        "print(set1)\n",
        "set1.remove(6)\n",
        "print(set1)"
      ],
      "metadata": {
        "colab": {
          "base_uri": "https://localhost:8080/"
        },
        "id": "Hlaq0DU7FDRS",
        "outputId": "e534dae7-546f-4e57-d4bf-86218de10add"
      },
      "execution_count": 50,
      "outputs": [
        {
          "output_type": "stream",
          "name": "stdout",
          "text": [
            "{1, 2, 3, 4, 5, 6}\n",
            "{1, 2, 3, 4, 5}\n"
          ]
        }
      ]
    },
    {
      "cell_type": "code",
      "source": [
        "set3=set1.difference(set2)\n",
        "print(set3)"
      ],
      "metadata": {
        "colab": {
          "base_uri": "https://localhost:8080/"
        },
        "id": "BEguJixkFfC4",
        "outputId": "1a035aac-2edc-4019-d8ca-cfe645ecacf0"
      },
      "execution_count": 55,
      "outputs": [
        {
          "output_type": "stream",
          "name": "stdout",
          "text": [
            "{1, 2, 3}\n"
          ]
        }
      ]
    },
    {
      "cell_type": "code",
      "source": [
        "thisset = {\"apple\", \"banana\", \"cherry\"}\n",
        "mylist = [\"kiwi\", \"orange\"]\n",
        "\n",
        "thisset.update(mylist)\n",
        "\n",
        "print(thisset)"
      ],
      "metadata": {
        "colab": {
          "base_uri": "https://localhost:8080/"
        },
        "id": "DEWI2G4vFQ61",
        "outputId": "fa048d31-1b14-40d3-810c-bd9c1b237883"
      },
      "execution_count": 51,
      "outputs": [
        {
          "output_type": "stream",
          "name": "stdout",
          "text": [
            "{'cherry', 'kiwi', 'banana', 'apple', 'orange'}\n"
          ]
        }
      ]
    }
  ]
}